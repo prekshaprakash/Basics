{
 "cells": [
  {
   "cell_type": "code",
   "execution_count": 5,
   "id": "15204862",
   "metadata": {},
   "outputs": [
    {
     "name": "stdout",
     "output_type": "stream",
     "text": [
      "Enter a number (type 'exit' to finish): 4\n",
      "Average is : 4.0\n",
      "Enter a number (type 'exit' to finish): 5\n",
      "Average is : 4.5\n",
      "Enter a number (type 'exit' to finish): 6\n",
      "Average is : 5.0\n",
      "Enter a number (type 'exit' to finish): 8\n",
      "Average is : 5.75\n",
      "Enter a number (type 'exit' to finish): exit\n",
      "Program terminated. The average is :  5.75\n"
     ]
    }
   ],
   "source": [
    "numbers = []\n",
    "while True:\n",
    "    user_input = input(\"Enter a number (type 'exit' to finish): \")\n",
    "\n",
    "    if user_input.lower() == 'exit':\n",
    "        break\n",
    "\n",
    "    try:\n",
    "        num = float(user_input)\n",
    "        numbers.append(num)\n",
    "\n",
    "        total = sum(numbers)\n",
    "        count = len(numbers)\n",
    "        if count == 0:\n",
    "            average = 0\n",
    "        else:\n",
    "            average = total / count\n",
    "\n",
    "        print(f\"Average is : {average}\")\n",
    "\n",
    "    except ValueError:\n",
    "        print(\"Invalid input. Please enter a valid number.\")\n",
    "\n",
    "print(\"Program terminated. The average is : \",average)"
   ]
  },
  {
   "cell_type": "markdown",
   "id": "f412d612",
   "metadata": {},
   "source": []
  }
 ],
 "metadata": {
  "kernelspec": {
   "display_name": "Python 3 (ipykernel)",
   "language": "python",
   "name": "python3"
  },
  "language_info": {
   "codemirror_mode": {
    "name": "ipython",
    "version": 3
   },
   "file_extension": ".py",
   "mimetype": "text/x-python",
   "name": "python",
   "nbconvert_exporter": "python",
   "pygments_lexer": "ipython3",
   "version": "3.11.5"
  }
 },
 "nbformat": 4,
 "nbformat_minor": 5
}
