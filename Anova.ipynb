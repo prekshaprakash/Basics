{
  "cells": [
    {
      "cell_type": "code",
      "execution_count": null,
      "id": "450c2898",
      "metadata": {
        "id": "450c2898"
      },
      "outputs": [],
      "source": [
        "import pandas as pd"
      ]
    },
    {
      "cell_type": "code",
      "execution_count": null,
      "id": "bb6ff3e5",
      "metadata": {
        "id": "bb6ff3e5"
      },
      "outputs": [],
      "source": [
        "df= pd.read_csv(\"AnovaSheet.csv\")"
      ]
    },
    {
      "cell_type": "code",
      "execution_count": null,
      "id": "5214d926",
      "metadata": {
        "id": "5214d926"
      },
      "outputs": [],
      "source": [
        "df_melt = pd.melt(df.reset_index(), id_vars=['index'], value_vars=['A', 'B', 'C', 'D'])"
      ]
    },
    {
      "cell_type": "code",
      "execution_count": null,
      "id": "4c04da32",
      "metadata": {
        "id": "4c04da32"
      },
      "outputs": [],
      "source": [
        "df_melt.columns=['index','treatments','value']"
      ]
    },
    {
      "cell_type": "code",
      "execution_count": null,
      "id": "3cdc28f6",
      "metadata": {
        "id": "3cdc28f6"
      },
      "outputs": [],
      "source": [
        "import matplotlib.pyplot as plt"
      ]
    },
    {
      "cell_type": "code",
      "execution_count": null,
      "id": "4c9edc94",
      "metadata": {
        "id": "4c9edc94"
      },
      "outputs": [],
      "source": [
        "import seaborn as sns"
      ]
    },
    {
      "cell_type": "code",
      "execution_count": null,
      "id": "ae01fe06",
      "metadata": {
        "id": "ae01fe06",
        "outputId": "2a856dbe-32e6-4268-c3ed-0c4103113c41"
      },
      "outputs": [
        {
          "data": {
            "image/png": "[encoded data removed]",
            "text/plain": [
              "<Figure size 640x480 with 1 Axes>"
            ]
          },
          "metadata": {},
          "output_type": "display_data"
        }
      ],
      "source": [
        "ax=sns.boxplot(x='treatments',y='value',data=df_melt,color='#99c2a2')"
      ]
    },
    {
      "cell_type": "code",
      "execution_count": null,
      "id": "012ecc75",
      "metadata": {
        "id": "012ecc75",
        "outputId": "ccb80abd-badf-4ca2-de77-585c8d2630bf"
      },
      "outputs": [
        {
          "data": {
            "image/png": "[encoded data removed]",
            "text/plain": [
              "<Figure size 640x480 with 1 Axes>"
            ]
          },
          "metadata": {},
          "output_type": "display_data"
        }
      ],
      "source": [
        "ax=sns.swarmplot(x=\"treatments\",y=\"value\",data=df_melt,color='#7d0013')"
      ]
    },
    {
      "cell_type": "code",
      "execution_count": null,
      "id": "d78f0182",
      "metadata": {
        "id": "d78f0182"
      },
      "outputs": [],
      "source": [
        "plt.show()"
      ]
    },
    {
      "cell_type": "code",
      "execution_count": null,
      "id": "a0080e7c",
      "metadata": {
        "id": "a0080e7c"
      },
      "outputs": [],
      "source": [
        "import scipy.stats as stats"
      ]
    },
    {
      "cell_type": "code",
      "execution_count": null,
      "id": "110336db",
      "metadata": {
        "id": "110336db"
      },
      "outputs": [],
      "source": [
        "fvalue,pvalue=stats.f_oneway(df['A'],df['B'],df['C'],df['D'])"
      ]
    },
    {
      "cell_type": "code",
      "execution_count": null,
      "id": "80dd9a92",
      "metadata": {
        "id": "80dd9a92",
        "outputId": "36232389-b19c-4b51-f8f3-643ae1fe52a8"
      },
      "outputs": [
        {
          "name": "stdout",
          "output_type": "stream",
          "text": [
            "17.492810457516338 2.639241146210922e-05\n"
          ]
        }
      ],
      "source": [
        "print(fvalue,pvalue)"
      ]
    },
    {
      "cell_type": "code",
      "execution_count": null,
      "id": "c7d745fe",
      "metadata": {
        "id": "c7d745fe"
      },
      "outputs": [],
      "source": [
        "import statsmodels.api as sm"
      ]
    },
    {
      "cell_type": "code",
      "execution_count": null,
      "id": "35a01ed0",
      "metadata": {
        "id": "35a01ed0"
      },
      "outputs": [],
      "source": [
        "from statsmodels.formula.api import ols"
      ]
    },
    {
      "cell_type": "code",
      "execution_count": null,
      "id": "dc72e702",
      "metadata": {
        "id": "dc72e702"
      },
      "outputs": [],
      "source": [
        "model = ols('value ~ C(treatments)', data=df_melt).fit()"
      ]
    },
    {
      "cell_type": "code",
      "execution_count": null,
      "id": "a2e58abe",
      "metadata": {
        "id": "a2e58abe"
      },
      "outputs": [],
      "source": [
        "anova_table=sm.stats.anova_lm(model,typ=2)\n"
      ]
    },
    {
      "cell_type": "code",
      "execution_count": null,
      "id": "ca07287e",
      "metadata": {
        "id": "ca07287e",
        "outputId": "10bc855c-685b-41c8-a2f4-668ee4278f2d"
      },
      "outputs": [
        {
          "data": {
            "text/html": [
              "<div>\n",
              "<style scoped>\n",
              "    .dataframe tbody tr th:only-of-type {\n",
              "        vertical-align: middle;\n",
              "    }\n",
              "\n",
              "    .dataframe tbody tr th {\n",
              "        vertical-align: top;\n",
              "    }\n",
              "\n",
              "    .dataframe thead th {\n",
              "        text-align: right;\n",
              "    }\n",
              "</style>\n",
              "<table border=\"1\" class=\"dataframe\">\n",
              "  <thead>\n",
              "    <tr style=\"text-align: right;\">\n",
              "      <th></th>\n",
              "      <th>sum_sq</th>\n",
              "      <th>df</th>\n",
              "      <th>F</th>\n",
              "      <th>PR(&gt;F)</th>\n",
              "    </tr>\n",
              "  </thead>\n",
              "  <tbody>\n",
              "    <tr>\n",
              "      <th>C(treatments)</th>\n",
              "      <td>3010.95</td>\n",
              "      <td>3.0</td>\n",
              "      <td>17.49281</td>\n",
              "      <td>0.000026</td>\n",
              "    </tr>\n",
              "    <tr>\n",
              "      <th>Residual</th>\n",
              "      <td>918.00</td>\n",
              "      <td>16.0</td>\n",
              "      <td>NaN</td>\n",
              "      <td>NaN</td>\n",
              "    </tr>\n",
              "  </tbody>\n",
              "</table>\n",
              "</div>"
            ],
            "text/plain": [
              "                sum_sq    df         F    PR(>F)\n",
              "C(treatments)  3010.95   3.0  17.49281  0.000026\n",
              "Residual        918.00  16.0       NaN       NaN"
            ]
          },
          "execution_count": 22,
          "metadata": {},
          "output_type": "execute_result"
        }
      ],
      "source": [
        "anova_table"
      ]
    },
    {
      "cell_type": "code",
      "execution_count": null,
      "id": "59c7aace",
      "metadata": {
        "id": "59c7aace"
      },
      "outputs": [],
      "source": [
        ""
      ]
    }
  ],
  "metadata": {
    "kernelspec": {
      "display_name": "Python 3 (ipykernel)",
      "language": "python",
      "name": "python3"
    },
    "language_info": {
      "codemirror_mode": {
        "name": "ipython",
        "version": 3
      },
      "file_extension": ".py",
      "mimetype": "text/x-python",
      "name": "python",
      "nbconvert_exporter": "python",
      "pygments_lexer": "ipython3",
      "version": "3.11.3"
    },
    "colab": {
      "provenance": []
    }
  },
  "nbformat": 4,
  "nbformat_minor": 5
}